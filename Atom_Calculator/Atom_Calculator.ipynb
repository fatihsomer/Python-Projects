{
 "cells": [
  {
   "cell_type": "code",
   "execution_count": 2,
   "id": "ca848caf",
   "metadata": {},
   "outputs": [
    {
     "name": "stdout",
     "output_type": "stream",
     "text": [
      "Calculations written into Results.txt!\n"
     ]
    }
   ],
   "source": [
    "import requests\n",
    "\n",
    "# import datas\n",
    "url = \"https://aflowlib.duke.edu/AFLOWDATA/ICSD_WEB/ORC/Ge1S1_ICSD_637785/CONTCAR.relax.qe\"\n",
    "response = requests.get(url)\n",
    "data = response.text\n",
    "\n",
    "# extract data\n",
    "lines = data.split(\"\\n\")\n",
    "\n",
    "# Calculate Atomic positions\n",
    "atom_positions = []\n",
    "for line in lines:\n",
    "    if \"ATOMIC_POSITIONS\" in line:\n",
    "        for k in range(3):\n",
    "            for i in range(8):\n",
    "                values = lines[lines.index(line) + i + 1].split()\n",
    "                atom_name = values[0]\n",
    "                \n",
    "                if k==0:\n",
    "                    x = float(values[1]) / 2\n",
    "                    y = float(values[2]) / 2\n",
    "                    z = float(values[3])\n",
    "                    \n",
    "                if k==1:\n",
    "                    x = float(values[1]) / 2 + 0.5\n",
    "                    y = float(values[2]) / 2\n",
    "                    z = float(values[3])\n",
    "                    \n",
    "                if k==2:\n",
    "                    x = float(values[1]) / 2\n",
    "                    y = float(values[2]) / 2 + 0.5\n",
    "                    z = float(values[3])\n",
    "                    \n",
    "                if k==3:\n",
    "                    x = float(values[1]) / 2 + 0.5\n",
    "                    y = float(values[2]) / 2 + 0.5\n",
    "                    z = float(values[3])\n",
    "                    \n",
    "                atom_positions.append((atom_name,x, y, z))\n",
    "\n",
    "# Calculate cell parameters\n",
    "cell_parameters = []\n",
    "for line in lines:\n",
    "    if \"CELL_PARAMETERS\" in line:\n",
    "        for i in range(3):\n",
    "            values = lines[lines.index(line) + i + 1].split()\n",
    "            \n",
    "            if i==0 or i==1:\n",
    "                x = float(values[0]) * 2\n",
    "                y = float(values[1]) * 2\n",
    "                z = float(values[2]) * 2\n",
    "                \n",
    "            if i==2:\n",
    "                x = float(values[0])\n",
    "                y = float(values[1])\n",
    "                z = float(values[2])\n",
    "                \n",
    "            cell_parameters.append((x, y, z))\n",
    "\n",
    "# Write results into text file\n",
    "with open(\"results.txt\", \"w\") as file:\n",
    "    file.write(\"ATOMIC_POSITIONS (crystal)\\n\")\n",
    "    for pos in atom_positions:\n",
    "        file.write(f\"{pos[0]}\\t{pos[1]}\\t{pos[2]} {pos[3]}\\n\")\n",
    "\n",
    "    file.write(\"\\nCELL_PARAMETERS (angstrom)\\n\")\n",
    "    for param in cell_parameters:\n",
    "        file.write(f\"{param[0]}\\t{param[1]}\\t{param[2]}\\n\")\n",
    "\n",
    "print(\"Calculations written into Results.txt!\")"
   ]
  },
  {
   "cell_type": "code",
   "execution_count": null,
   "id": "5582b235",
   "metadata": {},
   "outputs": [],
   "source": []
  }
 ],
 "metadata": {
  "kernelspec": {
   "display_name": "Python 3 (ipykernel)",
   "language": "python",
   "name": "python3"
  },
  "language_info": {
   "codemirror_mode": {
    "name": "ipython",
    "version": 3
   },
   "file_extension": ".py",
   "mimetype": "text/x-python",
   "name": "python",
   "nbconvert_exporter": "python",
   "pygments_lexer": "ipython3",
   "version": "3.9.12"
  }
 },
 "nbformat": 4,
 "nbformat_minor": 5
}
